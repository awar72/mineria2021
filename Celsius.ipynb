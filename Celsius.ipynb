{
 "cells": [
  {
   "cell_type": "code",
   "execution_count": 1,
   "metadata": {},
   "outputs": [],
   "source": [
    "import numpy as np\n",
    "import pandas as pd"
   ]
  },
  {
   "cell_type": "code",
   "execution_count": 2,
   "metadata": {},
   "outputs": [],
   "source": [
    "lista = [15,16,17,18,19,20,21,22,23,24,25,27,28]"
   ]
  },
  {
   "cell_type": "code",
   "execution_count": 10,
   "metadata": {},
   "outputs": [],
   "source": [
    "# La definición de la función\n",
    "def celsius(numeros):\n",
    "    for numero in numeros:\n",
    "        print (f\"{numero} = {(numero * 1.8) + 32}\")\n",
    "        #print(f\"{numero} + {factor} = {numero+factor}\")\n",
    "    return"
   ]
  },
  {
   "cell_type": "code",
   "execution_count": 11,
   "metadata": {},
   "outputs": [
    {
     "name": "stdout",
     "output_type": "stream",
     "text": [
      "15 = 59.0\n",
      "16 = 60.8\n",
      "17 = 62.6\n",
      "18 = 64.4\n",
      "19 = 66.2\n",
      "20 = 68.0\n",
      "21 = 69.80000000000001\n",
      "22 = 71.6\n",
      "23 = 73.4\n",
      "24 = 75.2\n",
      "25 = 77.0\n",
      "27 = 80.6\n",
      "28 = 82.4\n"
     ]
    }
   ],
   "source": [
    "celsius(lista)"
   ]
  }
 ],
 "metadata": {
  "kernelspec": {
   "display_name": "Python 3",
   "language": "python",
   "name": "python3"
  },
  "language_info": {
   "codemirror_mode": {
    "name": "ipython",
    "version": 3
   },
   "file_extension": ".py",
   "mimetype": "text/x-python",
   "name": "python",
   "nbconvert_exporter": "python",
   "pygments_lexer": "ipython3",
   "version": "3.7.6"
  }
 },
 "nbformat": 4,
 "nbformat_minor": 4
}
